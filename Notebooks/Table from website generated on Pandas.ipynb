{
 "cells": [
  {
   "cell_type": "code",
   "execution_count": 1,
   "id": "9af91581",
   "metadata": {},
   "outputs": [],
   "source": [
    "import os\n",
    "import requests\n",
    "from bs4 import BeautifulSoup as bs \n",
    "import pandas as pd"
   ]
  },
  {
   "cell_type": "code",
   "execution_count": 2,
   "id": "02a92260",
   "metadata": {},
   "outputs": [
    {
     "ename": "FileNotFoundError",
     "evalue": "[Errno 2] No such file or directory: 'for_testing.html'",
     "output_type": "error",
     "traceback": [
      "\u001b[1;31m---------------------------------------------------------------------------\u001b[0m",
      "\u001b[1;31mFileNotFoundError\u001b[0m                         Traceback (most recent call last)",
      "\u001b[1;32m~\\AppData\\Local\\Temp/ipykernel_20720/2359387975.py\u001b[0m in \u001b[0;36m<module>\u001b[1;34m\u001b[0m\n\u001b[0;32m      1\u001b[0m \u001b[0mfilepath\u001b[0m \u001b[1;33m=\u001b[0m \u001b[0mos\u001b[0m\u001b[1;33m.\u001b[0m\u001b[0mpath\u001b[0m\u001b[1;33m.\u001b[0m\u001b[0mjoin\u001b[0m\u001b[1;33m(\u001b[0m\u001b[1;34m\"for_testing.html\"\u001b[0m\u001b[1;33m)\u001b[0m\u001b[1;33m\u001b[0m\u001b[1;33m\u001b[0m\u001b[0m\n\u001b[1;32m----> 2\u001b[1;33m \u001b[1;32mwith\u001b[0m \u001b[0mopen\u001b[0m\u001b[1;33m(\u001b[0m\u001b[0mfilepath\u001b[0m\u001b[1;33m)\u001b[0m \u001b[1;32mas\u001b[0m \u001b[0mfile\u001b[0m\u001b[1;33m:\u001b[0m\u001b[1;33m\u001b[0m\u001b[1;33m\u001b[0m\u001b[0m\n\u001b[0m\u001b[0;32m      3\u001b[0m     \u001b[0mhtml\u001b[0m \u001b[1;33m=\u001b[0m \u001b[0mfile\u001b[0m\u001b[1;33m.\u001b[0m\u001b[0mread\u001b[0m\u001b[1;33m(\u001b[0m\u001b[1;33m)\u001b[0m\u001b[1;33m\u001b[0m\u001b[1;33m\u001b[0m\u001b[0m\n",
      "\u001b[1;31mFileNotFoundError\u001b[0m: [Errno 2] No such file or directory: 'for_testing.html'"
     ]
    }
   ],
   "source": [
    "filepath = os.path.join(\"for_testing.html\")\n",
    "with open(filepath) as file:\n",
    "    html = file.read()"
   ]
  },
  {
   "cell_type": "code",
   "execution_count": null,
   "id": "42582aec",
   "metadata": {},
   "outputs": [],
   "source": [
    "soup=bs(html,'html.parser')"
   ]
  },
  {
   "cell_type": "code",
   "execution_count": null,
   "id": "d4b4db49",
   "metadata": {},
   "outputs": [],
   "source": [
    "title=soup.title.text\n",
    "print(title)\n"
   ]
  },
  {
   "cell_type": "code",
   "execution_count": null,
   "id": "6c650fe7",
   "metadata": {},
   "outputs": [],
   "source": [
    "result=soup.find_all('div',id=\"franchisetable\")\n",
    "\n",
    "city_and_teams=records.find_all('tr')\n",
    "    \n",
    "city_and_teams\n",
    "\n"
   ]
  },
  {
   "cell_type": "code",
   "execution_count": null,
   "id": "d216436e",
   "metadata": {},
   "outputs": [],
   "source": [
    "#How many cities are in our table\n",
    "len(city_and_teams)\n"
   ]
  },
  {
   "cell_type": "code",
   "execution_count": null,
   "id": "74e1a493",
   "metadata": {},
   "outputs": [],
   "source": [
    "tables=pd.read_html(html)\n",
    "tables"
   ]
  },
  {
   "cell_type": "code",
   "execution_count": null,
   "id": "16ed9810",
   "metadata": {},
   "outputs": [],
   "source": [
    "# city_franchise_df=tables[0]\n",
    "# city_franchise_df"
   ]
  },
  {
   "cell_type": "code",
   "execution_count": null,
   "id": "e0692942",
   "metadata": {},
   "outputs": [],
   "source": [
    "# city_franchise_df.fillna('', inplace=True)\n",
    "# city_franchise_df\n",
    "\n",
    "# #formatting cities with multiple teams in a better looking way\n",
    "\n",
    "\n",
    "# city_franchise_df.to_csv('')\n",
    "                                                                            \n",
    "\n"
   ]
  },
  {
   "cell_type": "code",
   "execution_count": null,
   "id": "ebb04320",
   "metadata": {},
   "outputs": [],
   "source": []
  },
  {
   "cell_type": "code",
   "execution_count": null,
   "id": "1629c2df",
   "metadata": {},
   "outputs": [],
   "source": [
    "url = 'https://www.stadium-maps.com/facts/sports-franchises.html'\n",
    "header = {'User-agent': 'Mozilla/5.0 (Windows NT 10.0; Win64; x64; rv:101.0) Gecko/20100101 Firefox/101.0'}\n",
    "r = requests.get(url, headers=header)\n",
    "tables = pd.read_html(r.text.replace(' <br>',',').replace('<br>',','))\n",
    "tables[0]\n",
    "\n",
    "\n",
    "\n"
   ]
  },
  {
   "cell_type": "code",
   "execution_count": null,
   "id": "477af609",
   "metadata": {},
   "outputs": [],
   "source": [
    "Teams = tables[0].rename(columns = {\n",
    "    'MLB (30 Teams)': 'MLB',\n",
    "    'NFL (32 Teams)': 'NFL',\n",
    "    'NBA (30 Teams)': 'NBA',\n",
    "    'NHL (32 Teams)': 'NHL',\n",
    "    'MLS (27 Teams)': 'MLS'\n",
    "})\n",
    "Teams.fillna('@', inplace=True)\n",
    "Teams"
   ]
  },
  {
   "cell_type": "code",
   "execution_count": null,
   "id": "d5d4251b",
   "metadata": {},
   "outputs": [],
   "source": [
    "column_names = ['MLB', 'NFL', 'NBA', 'NHL', 'MLS']\n",
    "teams_list = []\n",
    "city_list = []\n",
    "league_list = []\n",
    "\n",
    "# Make a list of teams, with each team getting a city and league\n",
    "\n",
    "for cn in column_names:\n",
    "    for index, row in Teams.iterrows():\n",
    "        if (row[cn] != '@'):\n",
    "            team_list = row[cn].split(',')\n",
    "            for t in team_list:\n",
    "                teams_list.append(t)\n",
    "                city_list.append(row['City'])\n",
    "                league_list.append(cn)\n",
    "                \n",
    "            \n",
    "teams_df = pd.DataFrame({\n",
    "    'team':teams_list,\n",
    "    'city':city_list,\n",
    "    'league':league_list\n",
    "})    \n",
    "\n",
    "teams_df"
   ]
  },
  {
   "cell_type": "code",
   "execution_count": null,
   "id": "09216c7a",
   "metadata": {},
   "outputs": [],
   "source": [
    "teams_dict"
   ]
  },
  {
   "cell_type": "code",
   "execution_count": null,
   "id": "7225f36b",
   "metadata": {},
   "outputs": [],
   "source": [
    "teams_df.to_csv('../Final Data/teams.csv',index=False)"
   ]
  },
  {
   "cell_type": "code",
   "execution_count": null,
   "id": "8abaa000",
   "metadata": {},
   "outputs": [],
   "source": []
  }
 ],
 "metadata": {
  "kernelspec": {
   "display_name": "Python 3 (ipykernel)",
   "language": "python",
   "name": "python3"
  },
  "language_info": {
   "codemirror_mode": {
    "name": "ipython",
    "version": 3
   },
   "file_extension": ".py",
   "mimetype": "text/x-python",
   "name": "python",
   "nbconvert_exporter": "python",
   "pygments_lexer": "ipython3",
   "version": "3.9.7"
  }
 },
 "nbformat": 4,
 "nbformat_minor": 5
}
